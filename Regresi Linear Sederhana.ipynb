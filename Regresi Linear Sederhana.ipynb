{
 "cells": [
  {
   "cell_type": "markdown",
   "id": "94eb73bf",
   "metadata": {},
   "source": [
    "Regresi linear sederhana adalah suatu metode statistik yang digunakan untuk memodelkan hubungan antara satu variabel bebas (independen) dengan satu variabel terikat (dependen). Tujuan dari regresi sederhana adalah untuk memahami atau memprediksi perubahan pada variabel terikat yang disebabkan oleh perubahan pada variabel bebas. Adapun model dari regresi linear seedrhana adalah y=β \n",
    "0\n",
    "​\n",
    " +β \n",
    "1\n",
    "​\n",
    " ⋅x+ε"
   ]
  },
  {
   "cell_type": "markdown",
   "id": "6fc8d750",
   "metadata": {},
   "source": [
    "menginport import modul pandas "
   ]
  },
  {
   "cell_type": "code",
   "execution_count": 1,
   "id": "fed5ada8",
   "metadata": {},
   "outputs": [],
   "source": [
    "import pandas as pd"
   ]
  },
  {
   "cell_type": "markdown",
   "id": "6d3c72f7",
   "metadata": {},
   "source": [
    "load data set kedalam pandas "
   ]
  },
  {
   "cell_type": "code",
   "execution_count": 2,
   "id": "ef665241",
   "metadata": {},
   "outputs": [],
   "source": [
    "df = pd.read_csv(r'E:/data_pengguna.csv')"
   ]
  },
  {
   "cell_type": "code",
   "execution_count": 3,
   "id": "bf4a7889",
   "metadata": {
    "scrolled": true
   },
   "outputs": [
    {
     "data": {
      "text/html": [
       "<div>\n",
       "<style scoped>\n",
       "    .dataframe tbody tr th:only-of-type {\n",
       "        vertical-align: middle;\n",
       "    }\n",
       "\n",
       "    .dataframe tbody tr th {\n",
       "        vertical-align: top;\n",
       "    }\n",
       "\n",
       "    .dataframe thead th {\n",
       "        text-align: right;\n",
       "    }\n",
       "</style>\n",
       "<table border=\"1\" class=\"dataframe\">\n",
       "  <thead>\n",
       "    <tr style=\"text-align: right;\">\n",
       "      <th></th>\n",
       "      <th>user_id</th>\n",
       "      <th>Saham_AUM</th>\n",
       "      <th>user_age</th>\n",
       "      <th>user_gender</th>\n",
       "      <th>user_occupation</th>\n",
       "      <th>user_income_range</th>\n",
       "      <th>referral_code_used</th>\n",
       "      <th>user_income_source</th>\n",
       "    </tr>\n",
       "  </thead>\n",
       "  <tbody>\n",
       "    <tr>\n",
       "      <th>0</th>\n",
       "      <td>162882</td>\n",
       "      <td>2272192</td>\n",
       "      <td>51</td>\n",
       "      <td>Female</td>\n",
       "      <td>Swasta</td>\n",
       "      <td>&gt; Rp 500 Juta - 1 Miliar</td>\n",
       "      <td>non referal</td>\n",
       "      <td>Gaji</td>\n",
       "    </tr>\n",
       "    <tr>\n",
       "      <th>1</th>\n",
       "      <td>3485491</td>\n",
       "      <td>3815231</td>\n",
       "      <td>55</td>\n",
       "      <td>Female</td>\n",
       "      <td>Others</td>\n",
       "      <td>&gt; Rp 50 Juta - 100 Juta</td>\n",
       "      <td>non referal</td>\n",
       "      <td>Gaji</td>\n",
       "    </tr>\n",
       "    <tr>\n",
       "      <th>2</th>\n",
       "      <td>1071649</td>\n",
       "      <td>49541</td>\n",
       "      <td>50</td>\n",
       "      <td>Male</td>\n",
       "      <td>Swasta</td>\n",
       "      <td>Rp 10 Juta - 50 Juta</td>\n",
       "      <td>non referal</td>\n",
       "      <td>Gaji</td>\n",
       "    </tr>\n",
       "    <tr>\n",
       "      <th>3</th>\n",
       "      <td>3816789</td>\n",
       "      <td>257448</td>\n",
       "      <td>53</td>\n",
       "      <td>Female</td>\n",
       "      <td>IRT</td>\n",
       "      <td>&gt; Rp 50 Juta - 100 Juta</td>\n",
       "      <td>non referal</td>\n",
       "      <td>Gaji</td>\n",
       "    </tr>\n",
       "    <tr>\n",
       "      <th>4</th>\n",
       "      <td>3802293</td>\n",
       "      <td>9016238</td>\n",
       "      <td>47</td>\n",
       "      <td>Female</td>\n",
       "      <td>PNS</td>\n",
       "      <td>&gt; Rp 500 Juta - 1 Miliar</td>\n",
       "      <td>used referral</td>\n",
       "      <td>Gaji</td>\n",
       "    </tr>\n",
       "  </tbody>\n",
       "</table>\n",
       "</div>"
      ],
      "text/plain": [
       "   user_id  Saham_AUM  user_age user_gender user_occupation  \\\n",
       "0   162882    2272192        51      Female          Swasta   \n",
       "1  3485491    3815231        55      Female          Others   \n",
       "2  1071649      49541        50        Male          Swasta   \n",
       "3  3816789     257448        53      Female             IRT   \n",
       "4  3802293    9016238        47      Female             PNS   \n",
       "\n",
       "          user_income_range referral_code_used user_income_source  \n",
       "0  > Rp 500 Juta - 1 Miliar        non referal               Gaji  \n",
       "1   > Rp 50 Juta - 100 Juta        non referal               Gaji  \n",
       "2      Rp 10 Juta - 50 Juta        non referal               Gaji  \n",
       "3   > Rp 50 Juta - 100 Juta        non referal               Gaji  \n",
       "4  > Rp 500 Juta - 1 Miliar      used referral               Gaji  "
      ]
     },
     "execution_count": 3,
     "metadata": {},
     "output_type": "execute_result"
    }
   ],
   "source": [
    "df.head()"
   ]
  },
  {
   "cell_type": "code",
   "execution_count": 4,
   "id": "12fd80dd",
   "metadata": {},
   "outputs": [
    {
     "data": {
      "text/plain": [
       "(9398, 8)"
      ]
     },
     "execution_count": 4,
     "metadata": {},
     "output_type": "execute_result"
    }
   ],
   "source": [
    "df.shape"
   ]
  },
  {
   "cell_type": "markdown",
   "id": "862f204a",
   "metadata": {},
   "source": [
    "dapat dilihat bahwa data set terdiri dari beberapa kolom, karena di sini saya hanya menggunakan regresi linear sderhana. maka variabel yang saya pilih adalah variabel user_age sebagai x dan variabel saham_aum sebagai y."
   ]
  },
  {
   "cell_type": "code",
   "execution_count": 5,
   "id": "4f4a2736",
   "metadata": {},
   "outputs": [],
   "source": [
    "data = df[['Saham_AUM','user_age']]"
   ]
  },
  {
   "cell_type": "code",
   "execution_count": 6,
   "id": "9f99bd56",
   "metadata": {},
   "outputs": [
    {
     "data": {
      "text/html": [
       "<div>\n",
       "<style scoped>\n",
       "    .dataframe tbody tr th:only-of-type {\n",
       "        vertical-align: middle;\n",
       "    }\n",
       "\n",
       "    .dataframe tbody tr th {\n",
       "        vertical-align: top;\n",
       "    }\n",
       "\n",
       "    .dataframe thead th {\n",
       "        text-align: right;\n",
       "    }\n",
       "</style>\n",
       "<table border=\"1\" class=\"dataframe\">\n",
       "  <thead>\n",
       "    <tr style=\"text-align: right;\">\n",
       "      <th></th>\n",
       "      <th>Saham_AUM</th>\n",
       "      <th>user_age</th>\n",
       "    </tr>\n",
       "  </thead>\n",
       "  <tbody>\n",
       "    <tr>\n",
       "      <th>0</th>\n",
       "      <td>2272192</td>\n",
       "      <td>51</td>\n",
       "    </tr>\n",
       "    <tr>\n",
       "      <th>1</th>\n",
       "      <td>3815231</td>\n",
       "      <td>55</td>\n",
       "    </tr>\n",
       "    <tr>\n",
       "      <th>2</th>\n",
       "      <td>49541</td>\n",
       "      <td>50</td>\n",
       "    </tr>\n",
       "    <tr>\n",
       "      <th>3</th>\n",
       "      <td>257448</td>\n",
       "      <td>53</td>\n",
       "    </tr>\n",
       "    <tr>\n",
       "      <th>4</th>\n",
       "      <td>9016238</td>\n",
       "      <td>47</td>\n",
       "    </tr>\n",
       "  </tbody>\n",
       "</table>\n",
       "</div>"
      ],
      "text/plain": [
       "   Saham_AUM  user_age\n",
       "0    2272192        51\n",
       "1    3815231        55\n",
       "2      49541        50\n",
       "3     257448        53\n",
       "4    9016238        47"
      ]
     },
     "execution_count": 6,
     "metadata": {},
     "output_type": "execute_result"
    }
   ],
   "source": [
    "data.head()"
   ]
  },
  {
   "cell_type": "code",
   "execution_count": 7,
   "id": "9e44f005",
   "metadata": {},
   "outputs": [],
   "source": [
    "data1 = data.groupby('user_age')['Saham_AUM'].mean().reset_index(name = 'Saham_AUM').astype('int')"
   ]
  },
  {
   "cell_type": "code",
   "execution_count": 8,
   "id": "4d6d5150",
   "metadata": {
    "scrolled": true
   },
   "outputs": [
    {
     "data": {
      "text/html": [
       "<div>\n",
       "<style scoped>\n",
       "    .dataframe tbody tr th:only-of-type {\n",
       "        vertical-align: middle;\n",
       "    }\n",
       "\n",
       "    .dataframe tbody tr th {\n",
       "        vertical-align: top;\n",
       "    }\n",
       "\n",
       "    .dataframe thead th {\n",
       "        text-align: right;\n",
       "    }\n",
       "</style>\n",
       "<table border=\"1\" class=\"dataframe\">\n",
       "  <thead>\n",
       "    <tr style=\"text-align: right;\">\n",
       "      <th></th>\n",
       "      <th>user_age</th>\n",
       "      <th>Saham_AUM</th>\n",
       "    </tr>\n",
       "  </thead>\n",
       "  <tbody>\n",
       "    <tr>\n",
       "      <th>0</th>\n",
       "      <td>17</td>\n",
       "      <td>213376</td>\n",
       "    </tr>\n",
       "    <tr>\n",
       "      <th>1</th>\n",
       "      <td>18</td>\n",
       "      <td>141391</td>\n",
       "    </tr>\n",
       "    <tr>\n",
       "      <th>2</th>\n",
       "      <td>19</td>\n",
       "      <td>182944</td>\n",
       "    </tr>\n",
       "    <tr>\n",
       "      <th>3</th>\n",
       "      <td>20</td>\n",
       "      <td>149549</td>\n",
       "    </tr>\n",
       "    <tr>\n",
       "      <th>4</th>\n",
       "      <td>21</td>\n",
       "      <td>193425</td>\n",
       "    </tr>\n",
       "  </tbody>\n",
       "</table>\n",
       "</div>"
      ],
      "text/plain": [
       "   user_age  Saham_AUM\n",
       "0        17     213376\n",
       "1        18     141391\n",
       "2        19     182944\n",
       "3        20     149549\n",
       "4        21     193425"
      ]
     },
     "execution_count": 8,
     "metadata": {},
     "output_type": "execute_result"
    }
   ],
   "source": [
    "data1.head()"
   ]
  },
  {
   "cell_type": "code",
   "execution_count": 9,
   "id": "37a87e13",
   "metadata": {},
   "outputs": [
    {
     "data": {
      "text/plain": [
       "(54, 2)"
      ]
     },
     "execution_count": 9,
     "metadata": {},
     "output_type": "execute_result"
    }
   ],
   "source": [
    "data1.shape"
   ]
  },
  {
   "cell_type": "markdown",
   "id": "67a04874",
   "metadata": {},
   "source": [
    "menginport model regresi linear menggunakan modul dari sklearn dan juga train_test_split untuk membagi data set menjadi data latih dan data test"
   ]
  },
  {
   "cell_type": "code",
   "execution_count": 10,
   "id": "d070c7ab",
   "metadata": {},
   "outputs": [],
   "source": [
    "from sklearn.linear_model import LinearRegression\n",
    "from sklearn.model_selection import train_test_split"
   ]
  },
  {
   "cell_type": "code",
   "execution_count": 11,
   "id": "000ddae7",
   "metadata": {},
   "outputs": [],
   "source": [
    "X_train, X_test, y_train, y_test = train_test_split(data1[['user_age']], data1[['Saham_AUM']], test_size = 0.3, random_state = 43)"
   ]
  },
  {
   "cell_type": "code",
   "execution_count": 12,
   "id": "54238fc1",
   "metadata": {},
   "outputs": [
    {
     "name": "stdout",
     "output_type": "stream",
     "text": [
      "-0.08915138277007428\n"
     ]
    }
   ],
   "source": [
    "model = LinearRegression()\n",
    "model.fit(X_test, y_test)\n",
    "print(model.score(X_train, y_train))"
   ]
  },
  {
   "cell_type": "markdown",
   "id": "0dbc38cb",
   "metadata": {},
   "source": [
    "dapat dilihat bahwa akurasi dari data train sangat buruk. dan juga pastinya akurasi untuk data test kurang lebih sama"
   ]
  },
  {
   "cell_type": "code",
   "execution_count": 13,
   "id": "e2352a37",
   "metadata": {},
   "outputs": [
    {
     "data": {
      "text/html": [
       "<div>\n",
       "<style scoped>\n",
       "    .dataframe tbody tr th:only-of-type {\n",
       "        vertical-align: middle;\n",
       "    }\n",
       "\n",
       "    .dataframe tbody tr th {\n",
       "        vertical-align: top;\n",
       "    }\n",
       "\n",
       "    .dataframe thead th {\n",
       "        text-align: right;\n",
       "    }\n",
       "</style>\n",
       "<table border=\"1\" class=\"dataframe\">\n",
       "  <thead>\n",
       "    <tr style=\"text-align: right;\">\n",
       "      <th></th>\n",
       "      <th>user_age</th>\n",
       "      <th>Saham_AUM</th>\n",
       "    </tr>\n",
       "  </thead>\n",
       "  <tbody>\n",
       "    <tr>\n",
       "      <th>user_age</th>\n",
       "      <td>1.000000</td>\n",
       "      <td>0.151131</td>\n",
       "    </tr>\n",
       "    <tr>\n",
       "      <th>Saham_AUM</th>\n",
       "      <td>0.151131</td>\n",
       "      <td>1.000000</td>\n",
       "    </tr>\n",
       "  </tbody>\n",
       "</table>\n",
       "</div>"
      ],
      "text/plain": [
       "           user_age  Saham_AUM\n",
       "user_age   1.000000   0.151131\n",
       "Saham_AUM  0.151131   1.000000"
      ]
     },
     "execution_count": 13,
     "metadata": {},
     "output_type": "execute_result"
    }
   ],
   "source": [
    "data1.corr()"
   ]
  },
  {
   "cell_type": "markdown",
   "id": "1bd58668",
   "metadata": {},
   "source": [
    "dapat pula diliat bahwa user_age dan Saham_AUM tidak berkorelasi hal itulah yang membuat akurasinya sangat buruk"
   ]
  },
  {
   "cell_type": "code",
   "execution_count": 14,
   "id": "d8f119e0",
   "metadata": {},
   "outputs": [],
   "source": [
    "import matplotlib.pyplot as plt"
   ]
  },
  {
   "cell_type": "code",
   "execution_count": 15,
   "id": "1fa87b68",
   "metadata": {},
   "outputs": [
    {
     "data": {
      "image/png": "[encoded data removed]",
      "text/plain": [
       "<Figure size 640x480 with 1 Axes>"
      ]
     },
     "metadata": {},
     "output_type": "display_data"
    }
   ],
   "source": [
    "plt.scatter(data1['user_age'], data1['Saham_AUM']);"
   ]
  },
  {
   "cell_type": "markdown",
   "id": "b520f3b5",
   "metadata": {},
   "source": [
    "begitu pula dapat dilihat pada scatter plot antara saham_aum dan user age tanpak tidak berarturan\n",
    "sehingga tidak cocok jika dimodelkan menggunakan regresi linear sederhana."
   ]
  }
 ],
 "metadata": {
  "kernelspec": {
   "display_name": "Python 3 (ipykernel)",
   "language": "python",
   "name": "python3"
  },
  "language_info": {
   "codemirror_mode": {
    "name": "ipython",
    "version": 3
   },
   "file_extension": ".py",
   "mimetype": "text/x-python",
   "name": "python",
   "nbconvert_exporter": "python",
   "pygments_lexer": "ipython3",
   "version": "3.10.9"
  }
 },
 "nbformat": 4,
 "nbformat_minor": 5
}
